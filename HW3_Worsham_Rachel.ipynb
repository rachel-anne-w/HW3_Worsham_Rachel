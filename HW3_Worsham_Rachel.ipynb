{
 "cells": [
  {
   "cell_type": "code",
   "execution_count": 1,
   "id": "a1583da2",
   "metadata": {},
   "outputs": [
    {
     "data": {
      "text/plain": [
       "{'Andy': 88, 'Amy': 66, 'James': 90, 'Jules': 55, 'Arthur': 77}"
      ]
     },
     "execution_count": 1,
     "metadata": {},
     "output_type": "execute_result"
    }
   ],
   "source": [
    "marks =  {'Andy':88, 'Amy':66, 'James': 90, 'Jules': 55, 'Arthur': 77}\n",
    "marks"
   ]
  },
  {
   "cell_type": "code",
   "execution_count": 2,
   "id": "e95e2c4e",
   "metadata": {},
   "outputs": [
    {
     "name": "stdout",
     "output_type": "stream",
     "text": [
      "Andy recieved a score of 88\n",
      "Amy recieved a score of 66\n",
      "James recieved a score of 90\n",
      "Jules recieved a score of 55\n",
      "Arthur recieved a score of 77\n"
     ]
    }
   ],
   "source": [
    "for names in marks:\n",
    "    print (names, 'recieved a score of', marks[names])"
   ]
  },
  {
   "cell_type": "code",
   "execution_count": 3,
   "id": "536d642c",
   "metadata": {},
   "outputs": [
    {
     "name": "stdout",
     "output_type": "stream",
     "text": [
      "75.2\n"
     ]
    }
   ],
   "source": [
    "n=0\n",
    "for mark in marks.values():\n",
    "    n+=mark\n",
    "mean = n/len(marks)\n",
    "print(mean)"
   ]
  },
  {
   "cell_type": "code",
   "execution_count": 5,
   "id": "ed39f94a",
   "metadata": {},
   "outputs": [
    {
     "data": {
      "text/plain": [
       "90"
      ]
     },
     "execution_count": 5,
     "metadata": {},
     "output_type": "execute_result"
    }
   ],
   "source": [
    "max(marks.values())"
   ]
  },
  {
   "cell_type": "code",
   "execution_count": 6,
   "id": "b0b4adce",
   "metadata": {},
   "outputs": [
    {
     "data": {
      "text/plain": [
       "55"
      ]
     },
     "execution_count": 6,
     "metadata": {},
     "output_type": "execute_result"
    }
   ],
   "source": [
    "min(marks.values())"
   ]
  },
  {
   "cell_type": "code",
   "execution_count": 7,
   "id": "15cf85a4",
   "metadata": {},
   "outputs": [
    {
     "name": "stdout",
     "output_type": "stream",
     "text": [
      "Andy\n",
      "Amy\n"
     ]
    }
   ],
   "source": [
    "for names in marks.keys():\n",
    "    if 'J' in names:\n",
    "        break\n",
    "    print(names)"
   ]
  },
  {
   "cell_type": "code",
   "execution_count": 8,
   "id": "dd290874",
   "metadata": {},
   "outputs": [
    {
     "name": "stdout",
     "output_type": "stream",
     "text": [
      "Andy\n",
      "Amy\n",
      "Arthur\n"
     ]
    }
   ],
   "source": [
    "for names in marks.keys():\n",
    "    if 'J' in names:\n",
    "        continue\n",
    "    print(names)"
   ]
  },
  {
   "cell_type": "code",
   "execution_count": 11,
   "id": "51dd22d4",
   "metadata": {},
   "outputs": [
    {
     "name": "stdout",
     "output_type": "stream",
     "text": [
      "77\n",
      "cannot find student's name\n"
     ]
    }
   ],
   "source": [
    "marks =  {'Andy':88, 'Amy':66, 'James': 90, 'Jules': 55, 'Arthur': 77}\n",
    "def question5(name):\n",
    "    if name in marks:\n",
    "        return marks[name]\n",
    "    else:\n",
    "        print(\"cannot find student's name\")\n",
    "    \n",
    "print(question5('Arthur'))\n",
    "question5('charlie')"
   ]
  },
  {
   "cell_type": "code",
   "execution_count": 12,
   "id": "5b7e1b32",
   "metadata": {},
   "outputs": [
    {
     "name": "stdout",
     "output_type": "stream",
     "text": [
      "0 power of n\n",
      "1 power of n\n",
      "2 power of n\n",
      "3 power of n\n",
      "4 power of n\n",
      "5 power of n\n",
      "6 power of n\n",
      "7 power of n\n",
      "8 is greater than 8\n"
     ]
    }
   ],
   "source": [
    "def question6(num):\n",
    "    n=0\n",
    "    while n<num:\n",
    "        print(n, 'power of n')\n",
    "        n+=1\n",
    "    print(n,'is greater than', num)\n",
    "\n",
    "question6(8)"
   ]
  },
  {
   "cell_type": "code",
   "execution_count": 13,
   "id": "591ddb8f",
   "metadata": {},
   "outputs": [
    {
     "name": "stdout",
     "output_type": "stream",
     "text": [
      "45\n"
     ]
    }
   ],
   "source": [
    "def question7(num):\n",
    "    sum = 0\n",
    "    n = 1\n",
    "    while n < num:\n",
    "        sum+=n\n",
    "        n+=1\n",
    "    print(sum)\n",
    "question7(10)"
   ]
  },
  {
   "cell_type": "code",
   "execution_count": 14,
   "id": "5489dce6",
   "metadata": {},
   "outputs": [
    {
     "name": "stdout",
     "output_type": "stream",
     "text": [
      "1\n",
      "3\n",
      "6\n",
      "10\n",
      "15\n",
      "21\n",
      "28\n",
      "36\n",
      "45\n"
     ]
    }
   ],
   "source": [
    "def sumprint(num):\n",
    "    n = 1\n",
    "    sum = 0\n",
    "    for n in range(1,num):\n",
    "        sum+=n\n",
    "        n+=1\n",
    "        print(sum)\n",
    "sumprint(10)"
   ]
  },
  {
   "cell_type": "code",
   "execution_count": 15,
   "id": "7a2f3992",
   "metadata": {},
   "outputs": [
    {
     "data": {
      "text/plain": [
       "0"
      ]
     },
     "execution_count": 15,
     "metadata": {},
     "output_type": "execute_result"
    }
   ],
   "source": [
    "def minimum(v1, v2, v3, v4):\n",
    "    minvalue=v1\n",
    "    if v1<v2 and v3 and v4:\n",
    "        minvalue=v1\n",
    "    elif v2<v3 and v4:\n",
    "        minvalue=v2\n",
    "    elif v3<v4:\n",
    "        minvalue=v3  \n",
    "    else:\n",
    "        minvalue=v4\n",
    "    return (minvalue)\n",
    "minimum(77,1,7,0)"
   ]
  },
  {
   "cell_type": "code",
   "execution_count": null,
   "id": "4d8ff9c6",
   "metadata": {},
   "outputs": [],
   "source": []
  }
 ],
 "metadata": {
  "kernelspec": {
   "display_name": "Python 3",
   "language": "python",
   "name": "python3"
  },
  "language_info": {
   "codemirror_mode": {
    "name": "ipython",
    "version": 3
   },
   "file_extension": ".py",
   "mimetype": "text/x-python",
   "name": "python",
   "nbconvert_exporter": "python",
   "pygments_lexer": "ipython3",
   "version": "3.8.8"
  }
 },
 "nbformat": 4,
 "nbformat_minor": 5
}
